{
 "cells": [
  {
   "cell_type": "markdown",
   "metadata": {},
   "source": [
    "1. Ask user to enter a string and check that it is made up only alphabets:"
   ]
  },
  {
   "cell_type": "code",
   "execution_count": null,
   "metadata": {},
   "outputs": [],
   "source": [
    "def check_only_alphabets():\n",
    "    while True:\n",
    "        user_input = input(\"Enter a string: \")\n",
    "        if user_input.isalpha():\n",
    "            print(\"Valid input. The string contains only alphabets.\")\n",
    "            break\n",
    "        else:\n",
    "            print(\"Invalid input. Please enter a string with only alphabets.\")\n",
    "\n",
    "check_only_alphabets()\n"
   ]
  },
  {
   "cell_type": "markdown",
   "metadata": {},
   "source": [
    "2. Now, make sure that the string is made up of both alphabets and numbers:\n",
    "\n",
    "TRY using isalnum() function and then entering only alhpabets in the string and see what happens."
   ]
  },
  {
   "cell_type": "code",
   "execution_count": null,
   "metadata": {},
   "outputs": [],
   "source": [
    "def check_alphabets_and_numbers():\n",
    "    while True:\n",
    "        user_input = input(\"Enter a string: \")\n",
    "        if user_input.isalnum() and not user_input.isalpha() and not user_input.isdigit():\n",
    "            print(\"Valid input. The string contains both alphabets and numbers.\")\n",
    "            break\n",
    "        else:\n",
    "            print(\"Invalid input. Please enter a string with both alphabets and numbers.\")\n",
    "\n",
    "check_alphabets_and_numbers()\n"
   ]
  },
  {
   "cell_type": "markdown",
   "metadata": {},
   "source": [
    "3. Now, make sure that the string is made up of both alphabets and at least one number:\n"
   ]
  },
  {
   "cell_type": "code",
   "execution_count": null,
   "metadata": {},
   "outputs": [],
   "source": [
    "def check_alphabets_and_at_least_one_number():\n",
    "    while True:\n",
    "        user_input = input(\"Enter a string: \")\n",
    "        if any(char.isalpha() for char in user_input) and any(char.isdigit() for char in user_input):\n",
    "            print(\"Valid input. The string contains both alphabets and at least one number.\")\n",
    "            break\n",
    "        else:\n",
    "            print(\"Invalid input. Please enter a string with both alphabets and at least one number.\")\n",
    "\n",
    "check_alphabets_and_at_least_one_number()\n"
   ]
  },
  {
   "cell_type": "markdown",
   "metadata": {},
   "source": [
    "4. Now, make sure that the string is made up of both alphabets, at least one number, and at least one special character:"
   ]
  },
  {
   "cell_type": "code",
   "execution_count": null,
   "metadata": {},
   "outputs": [],
   "source": [
    "def check_alphabets_numbers_and_special_char():\n",
    "    while True:\n",
    "        user_input = input(\"Enter a string: \")\n",
    "        if (any(char.isalpha() for char in user_input) and\n",
    "            any(char.isdigit() for char in user_input) and\n",
    "            any(not char.isalnum() for char in user_input)):\n",
    "            print(\"Valid input. The string contains alphabets, at least one number, and at least one special character.\")\n",
    "            break\n",
    "        else:\n",
    "            print(\"Invalid input. Please enter a string with alphabets, at least one number, and at least one special character.\")\n",
    "\n",
    "check_alphabets_numbers_and_special_char()\n"
   ]
  },
  {
   "cell_type": "markdown",
   "metadata": {},
   "source": [
    "5. Now, modify the above code so that if the user enters an invalid string, the program should ask the user to enter another string again, and keep asking until a valid string has been entered."
   ]
  },
  {
   "cell_type": "code",
   "execution_count": null,
   "metadata": {},
   "outputs": [],
   "source": [
    "def get_valid_string():\n",
    "    while True:\n",
    "        user_input = input(\"Enter a valid string: \")\n",
    "        if (any(char.isalpha() for char in user_input) and\n",
    "            any(char.isdigit() for char in user_input) and\n",
    "            any(not char.isalnum() for char in user_input)):\n",
    "            print(\"Valid input. The string contains alphabets, at least one number, and at least one special character.\")\n",
    "            return user_input  # 返回有效的字符串\n",
    "        else:\n",
    "            print(\"Invalid input. Please try again.\")\n",
    "\n",
    "# 调用函数并获取结果\n",
    "valid_string = get_valid_string()\n",
    "print(f\"You have entered a valid string: {valid_string}\")\n"
   ]
  }
 ],
 "metadata": {
  "kernelspec": {
   "display_name": "Python 3",
   "language": "python",
   "name": "python3"
  },
  "language_info": {
   "codemirror_mode": {
    "name": "ipython",
    "version": 3
   },
   "file_extension": ".py",
   "mimetype": "text/x-python",
   "name": "python",
   "nbconvert_exporter": "python",
   "pygments_lexer": "ipython3",
   "version": "3.11.2"
  }
 },
 "nbformat": 4,
 "nbformat_minor": 2
}
